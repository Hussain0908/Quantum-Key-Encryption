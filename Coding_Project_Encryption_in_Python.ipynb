{
  "nbformat": 4,
  "nbformat_minor": 0,
  "metadata": {
    "colab": {
      "provenance": [],
      "toc_visible": true
    },
    "kernelspec": {
      "name": "python3",
      "display_name": "Python 3"
    },
    "language_info": {
      "name": "python"
    }
  },
  "cells": [
    {
      "cell_type": "markdown",
      "source": [
        "# **Coding Project: Encryption in Python**\n",
        "---\n",
        "\n",
        "### **Description**\n",
        "In this project, you will be writing code to encrypt and decrypt a message of your choice using a key generated through QKD.\n",
        "\n",
        "<br>"
      ],
      "metadata": {
        "id": "bKxy5QMFjWGo"
      }
    },
    {
      "cell_type": "code",
      "source": [
        "!pip install cirq --quiet\n",
        "import cirq\n",
        "from random import choices\n",
        "def QKD(num_bits):\n",
        "  #Setup\n",
        "  encode_gates = {0: cirq.I, 1: cirq.X}\n",
        "  basis_gates = {'Z': cirq.I, 'X': cirq.H}\n",
        "\n",
        "  qubits = cirq.NamedQubit.range(num_bits, prefix = 'q')\n",
        "\n",
        "  #Alice Chooses Bits and Bases\n",
        "  alice_key = choices([0, 1], k = num_bits)\n",
        "  alice_bases = choices(['Z', 'X'], k = num_bits)\n",
        "\n",
        "  #Alice Creates Qubits\n",
        "  alice_circuit = cirq.Circuit()\n",
        "\n",
        "  for bit in range(num_bits):\n",
        "\n",
        "    encode_value = alice_key[bit]\n",
        "    encode_gate = encode_gates[encode_value]\n",
        "\n",
        "    basis_value = alice_bases[bit]\n",
        "    basis_gate = basis_gates[basis_value]\n",
        "\n",
        "    qubit = qubits[bit]\n",
        "    alice_circuit.append(encode_gate(qubit))\n",
        "    alice_circuit.append(basis_gate(qubit))\n",
        "\n",
        "  #Bob chooses a Bases\n",
        "  bob_bases = choices(['Z', 'X'], k = num_bits)\n",
        "\n",
        "  bob_circuit = cirq.Circuit()\n",
        "\n",
        "  for bit in range(num_bits):\n",
        "\n",
        "    basis_value = bob_bases[bit]\n",
        "    basis_gate = basis_gates[basis_value]\n",
        "\n",
        "    qubit = qubits[bit]\n",
        "    bob_circuit.append(basis_gate(qubit))\n",
        "\n",
        "  #Bob Measures Qubits\n",
        "  bob_circuit.append(cirq.measure(qubits, key = 'bob key'))\n",
        "\n",
        "  #Bob Creates a Key\n",
        "  bb84_circuit = alice_circuit + bob_circuit\n",
        "\n",
        "  sim = cirq.Simulator()\n",
        "  results = sim.run(bb84_circuit)\n",
        "  bob_key = results.measurements['bob key'][0]\n",
        "\n",
        "  final_alice_key = []\n",
        "  final_bob_key = []\n",
        "\n",
        "\n",
        "  #Compare Bases\n",
        "  for bit in range(num_bits):\n",
        "\n",
        "    if alice_bases[bit] == bob_bases[bit]:\n",
        "      final_alice_key.append(alice_key[bit])\n",
        "      final_bob_key.append(bob_key[bit])\n",
        "\n",
        "  #Compare Half their Bits\n",
        "  num_bits_to_compare = int(len(final_alice_key) * .5)\n",
        "  if final_alice_key[0:num_bits_to_compare] == final_bob_key[0:num_bits_to_compare]:\n",
        "    final_alice_key = final_alice_key[num_bits_to_compare:]\n",
        "    final_bob_key = final_bob_key[num_bits_to_compare:]\n",
        "\n",
        "    # Added return function for variables\n",
        "    return final_alice_key, final_bob_key\n",
        "\n",
        "    print('\\n\\nWe can use our keys!')\n",
        "    print('Alice Key: ', final_alice_key)\n",
        "    print('Bob Key: ', final_bob_key)\n",
        "\n",
        "  else:\n",
        "    print('\\n\\nEve was listening, we need to use a different channel!')"
      ],
      "metadata": {
        "id": "P1FwDV7GQSiy"
      },
      "execution_count": 37,
      "outputs": []
    },
    {
      "cell_type": "markdown",
      "source": [
        "### **Step 1**\n",
        "You will first need to create some data we would like to send."
      ],
      "metadata": {
        "id": "V6MnfKMnk3uR"
      }
    },
    {
      "cell_type": "code",
      "source": [
        "unencrypted_string = \"I need to schedule a meeting with the bank to discuss my account details, account#:502350 balance:$1750000\""
      ],
      "metadata": {
        "id": "ewx6O2qXlY53"
      },
      "execution_count": 38,
      "outputs": []
    },
    {
      "cell_type": "markdown",
      "source": [
        "### **Step 2**\n",
        "Use the `QKD` function, defined above, to create a key for your data."
      ],
      "metadata": {
        "id": "3F0lspFulgT0"
      }
    },
    {
      "cell_type": "code",
      "source": [
        "# Multiplying the length of the string by 8 assumes each character is represented by 8 bits\n",
        "alice_key, bob_key = QKD(len(unencrypted_string) * 8)"
      ],
      "metadata": {
        "id": "pw82euVmlgT0"
      },
      "execution_count": 44,
      "outputs": []
    },
    {
      "cell_type": "markdown",
      "source": [
        "### **Step 3**\n",
        "---\n",
        "You will need to create a function that can now ecrypt your message using your key. You may import from any python libraries you like to define this function."
      ],
      "metadata": {
        "id": "N44Lm949l9R7"
      }
    },
    {
      "cell_type": "code",
      "source": [
        "def encrypt_message(message, key):\n",
        "    \"\"\"\n",
        "    Encrypts a message using XOR encryption with a given key.\n",
        "\n",
        "    \"\"\"\n",
        "    encrypted_message = []\n",
        "    for char, bit in zip(message, key):\n",
        "        # XOR operation between the character and the corresponding key bit\n",
        "        encrypted_char = chr(ord(char) ^ bit)\n",
        "        encrypted_message.append(encrypted_char)\n",
        "    return ''.join(encrypted_message)"
      ],
      "metadata": {
        "id": "zjGC1PCHTFe0"
      },
      "execution_count": 40,
      "outputs": []
    },
    {
      "cell_type": "markdown",
      "source": [
        "### **Step 4**\n",
        "\n",
        "You will need to create a function that can now decrypt your message using your key. You may import from any python libraries you like to define this function."
      ],
      "metadata": {
        "id": "AJwhQ7yUmwOy"
      }
    },
    {
      "cell_type": "code",
      "source": [
        "def decrypt_message(encrypted_message, key):\n",
        "    \"\"\"\n",
        "    Decrypts an encrypted message using XOR decryption with a given key.\n",
        "\n",
        "    \"\"\"\n",
        "    decrypted_message = []\n",
        "    for char, bit in zip(encrypted_message, key):\n",
        "        # XOR operation between the encrypted character and the corresponding key bit\n",
        "        decrypted_char = chr(ord(char) ^ bit)\n",
        "        decrypted_message.append(decrypted_char)\n",
        "    return ''.join(decrypted_message)"
      ],
      "metadata": {
        "id": "P6rRL4JlTHfb"
      },
      "execution_count": 43,
      "outputs": []
    },
    {
      "cell_type": "markdown",
      "source": [
        "### **Step 5**\n",
        "---\n",
        "Write code to encrypt and decrypt your message using your key to ensure that you were successful."
      ],
      "metadata": {
        "id": "XwJqT-JTnBdS"
      }
    },
    {
      "cell_type": "code",
      "execution_count": 42,
      "metadata": {
        "id": "eKlKbyIll9SH",
        "colab": {
          "base_uri": "https://localhost:8080/"
        },
        "outputId": "8abcd31f-4b1f-4c14-d2e0-e3ebec994492"
      },
      "outputs": [
        {
          "output_type": "stream",
          "name": "stdout",
          "text": [
            "Encrypted message: I!nded tn!sbhdeumd!`!meeuinf!vith uhe c`nj!un dhrbtss lx `bcotot ddt`hmr-!`bbntot#:412241 b`m`obe;%0751100\n",
            "Decrypted message: I need to schedule a meeting with the bank to discuss my account details, account#:502350 balance:$1750000\n"
          ]
        }
      ],
      "source": [
        "if alice_key is not None and bob_key is not None:\n",
        "    # Encrypt message\n",
        "    encrypted_message = encrypt_message(unencrypted_string, alice_key)\n",
        "    print(\"Encrypted message:\", encrypted_message)\n",
        "\n",
        "    # Decrypt message\n",
        "    decrypted_message = decrypt_message(encrypted_message, bob_key)\n",
        "    print(\"Decrypted message:\", decrypted_message)\n",
        "else:\n",
        "    print(\"Failed to establish secure communication.\")"
      ]
    },
    {
      "cell_type": "markdown",
      "source": [
        "# End of Notebook\n",
        "\n",
        "---\n",
        "© 2024 The Coding School, All rights reserved"
      ],
      "metadata": {
        "id": "NGJhb6stUYCp"
      }
    }
  ]
}